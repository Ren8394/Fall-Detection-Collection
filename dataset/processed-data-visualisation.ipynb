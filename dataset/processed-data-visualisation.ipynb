{
 "cells": [
  {
   "cell_type": "code",
   "execution_count": null,
   "metadata": {},
   "outputs": [],
   "source": [
    "import numpy as np\n",
    "import pandas as pd\n",
    "\n",
    "from pathlib import Path"
   ]
  },
  {
   "cell_type": "code",
   "execution_count": null,
   "metadata": {},
   "outputs": [],
   "source": [
    "processed_Data_Folder = Path.cwd().joinpath('processed')\n",
    "df_FallAllD = pd.read_pickle(processed_Data_Folder.joinpath('FallAllD-Processed.pkl'))\n",
    "df_SisFall = pd.read_pickle(processed_Data_Folder.joinpath('SisFall-Processed.pkl'))\n",
    "df_UMAFall = pd.read_pickle(processed_Data_Folder.joinpath('UMAFall-Processed.pkl'))"
   ]
  }
 ],
 "metadata": {
  "kernelspec": {
   "display_name": "py39",
   "language": "python",
   "name": "python3"
  },
  "language_info": {
   "codemirror_mode": {
    "name": "ipython",
    "version": 3
   },
   "file_extension": ".py",
   "mimetype": "text/x-python",
   "name": "python",
   "nbconvert_exporter": "python",
   "pygments_lexer": "ipython3",
   "version": "3.9.17"
  },
  "orig_nbformat": 4
 },
 "nbformat": 4,
 "nbformat_minor": 2
}
