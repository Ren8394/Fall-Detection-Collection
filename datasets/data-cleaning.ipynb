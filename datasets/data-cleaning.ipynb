{
 "cells": [
  {
   "cell_type": "markdown",
   "metadata": {},
   "source": [
    "Goal: To integrate multiple files to a single file\n",
    "---\n",
    "+ Single file columns -> SubjectID, Device, Activity, Acc, Gyr  \n",
    "+ Dataset -> FallAllD, SisFall, UMAFall"
   ]
  },
  {
   "cell_type": "code",
   "execution_count": 1,
   "metadata": {},
   "outputs": [],
   "source": [
    "import numpy as np\n",
    "import pandas as pd\n",
    "\n",
    "from pathlib import Path"
   ]
  },
  {
   "cell_type": "markdown",
   "metadata": {},
   "source": [
    "### Preprocessing - FallAllD"
   ]
  },
  {
   "cell_type": "code",
   "execution_count": 2,
   "metadata": {},
   "outputs": [],
   "source": [
    "# Read dataset\n",
    "df_fallAllD = pd.read_pickle(Path.cwd().joinpath('raw', 'FallAllD.pkl'))\n",
    "\n",
    "df_fallAllD['Activity'] = np.where(df_fallAllD['ActivityID'] >= 100, 'Fall', 'ADL')       # ID > 100 is Fall, < 100 is NonFall（ADL）\n",
    "df_fallAllD = df_fallAllD[['SubjectID', 'Device', 'Activity', 'Acc', 'Gyr']]\n",
    "pd.to_pickle(df_fallAllD, Path.cwd().joinpath('processed', 'FallAllD-Preliminary.pkl'))"
   ]
  },
  {
   "cell_type": "markdown",
   "metadata": {},
   "source": [
    "### Preprocessing - UMAFall"
   ]
  },
  {
   "cell_type": "code",
   "execution_count": 3,
   "metadata": {},
   "outputs": [],
   "source": [
    "UMA_dataFolder = Path.cwd().joinpath('raw', 'UMAFall', 'UMAFall_Dataset')\n",
    "UMA_dataFiles = list(UMA_dataFolder.glob('*.csv'))"
   ]
  },
  {
   "cell_type": "code",
   "execution_count": 4,
   "metadata": {},
   "outputs": [],
   "source": [
    "list_sugjectID = []\n",
    "list_device = []\n",
    "list_activity = []\n",
    "list_acc = []\n",
    "list_gyr = []\n",
    "\n",
    "sensor_ID = {\n",
    "    0: 'Right Pocket',\n",
    "    1: 'Chest',\n",
    "    2: 'Waist',\n",
    "    3: 'Wrist',\n",
    "    4: 'Ankle'\n",
    "}\n",
    "\n",
    "sensor_type = {\n",
    "    0: 'Accelerometer',\n",
    "    1: 'Gyroscope'\n",
    "}\n",
    "\n",
    "for dataFile in UMA_dataFiles:\n",
    "    df = pd.read_csv(dataFile, header=0, skiprows=40, sep=';')\n",
    "    df = df.iloc[: , :-1]\n",
    "    df.columns = ['Time', 'Sample No', 'X-Axis', 'Y-Axis', 'Z-Axis', 'Sensor Type', 'Sensor ID']\n",
    "    \n",
    "    fileName = str(dataFile.stem)\n",
    "    # UMAFall_Subject_01_ADL_Aplausing_1_2017-04-14_23-38-23\n",
    "    subjectID = fileName.split('_')[2]\n",
    "    activity = fileName.split('_')[3]\n",
    "    for id in sensor_ID:\n",
    "        device = sensor_ID[id]\n",
    "        acc = df.loc[(df['Sensor Type'] == 0) & (df['Sensor ID'] == id), ['X-Axis', 'Y-Axis', 'Z-Axis']].to_numpy()\n",
    "        gyr = df.loc[(df['Sensor Type'] == 1) & (df['Sensor ID'] == id), ['X-Axis', 'Y-Axis', 'Z-Axis']].to_numpy()\n",
    "\n",
    "        # append to data list\n",
    "        list_sugjectID.append(np.uint8(subjectID))\n",
    "        list_activity.append(activity)\n",
    "        list_device.append(device)\n",
    "        list_acc.append(acc)\n",
    "        list_gyr.append(gyr)\n",
    "\n",
    "df_UMAFall = pd.DataFrame(list(zip(list_sugjectID,list_device,list_activity,list_acc,list_gyr)), columns=['SubjectID','Device','Activity','Acc','Gyr'])\n",
    "pd.to_pickle(df_UMAFall, Path.cwd().joinpath('processed', 'UMAFall-Preliminary.pkl'))"
   ]
  },
  {
   "cell_type": "markdown",
   "metadata": {},
   "source": [
    "### Preprocessing - SisFall"
   ]
  },
  {
   "cell_type": "code",
   "execution_count": 5,
   "metadata": {},
   "outputs": [],
   "source": [
    "Sis_dataFolder = Path.cwd().joinpath('raw', 'SisFall', 'SisFall_Dataset')\n",
    "Sis_dataFolderName = [f\"SA{i:02d}\" for i in range(1, 24)]"
   ]
  },
  {
   "cell_type": "code",
   "execution_count": 6,
   "metadata": {},
   "outputs": [],
   "source": [
    "list_sugjectID = []\n",
    "list_device = []\n",
    "list_activity = []\n",
    "list_acc = []\n",
    "list_gyr = []"
   ]
  },
  {
   "cell_type": "code",
   "execution_count": 7,
   "metadata": {},
   "outputs": [],
   "source": [
    "for i, folderName in enumerate(Sis_dataFolderName):\n",
    "    Sis_dataFiles = list(Sis_dataFolder.joinpath(folderName).glob('*.txt'))\n",
    "    for dataFile in Sis_dataFiles:\n",
    "        # read data\n",
    "        df = pd.read_csv(dataFile, sep=',', header=None)\n",
    "        # remove the last column symbol ';'\n",
    "        df.iloc[:, -1] = df.iloc[:, -1].apply(lambda x: x.split(';')[0])\n",
    "        # ADXL345 -> 0, 1, 2 (Acc)\n",
    "        # TIG3200 -> 6, 7, 8 (Gyr)\n",
    "        acc = df.iloc[:, [0, 1, 2]].to_numpy()\n",
    "        gyr = df.iloc[:, [6, 7, 8]].to_numpy()\n",
    "\n",
    "        # check ADL or Fall\n",
    "        if dataFile.stem[0] == 'D':\n",
    "            activity = 'ADL'\n",
    "        elif dataFile.stem[0] == 'F':\n",
    "            activity = 'Fall'\n",
    "\n",
    "        # append to data list\n",
    "        list_sugjectID.append(np.uint8(i+1))\n",
    "        list_device.append('Waist')\n",
    "        list_activity.append(activity)\n",
    "        list_acc.append(acc)\n",
    "        list_gyr.append(gyr)\n",
    "\n",
    "df_SisFall = pd.DataFrame(list(zip(list_sugjectID,list_device,list_activity,list_acc,list_gyr)), columns=['SubjectID','Device','Activity','Acc','Gyr'])\n",
    "pd.to_pickle(df_SisFall, Path.cwd().joinpath('processed', 'SisFall-Preliminary.pkl'))"
   ]
  }
 ],
 "metadata": {
  "kernelspec": {
   "display_name": "py39",
   "language": "python",
   "name": "python3"
  },
  "language_info": {
   "codemirror_mode": {
    "name": "ipython",
    "version": 3
   },
   "file_extension": ".py",
   "mimetype": "text/x-python",
   "name": "python",
   "nbconvert_exporter": "python",
   "pygments_lexer": "ipython3",
   "version": "3.9.17"
  },
  "orig_nbformat": 4
 },
 "nbformat": 4,
 "nbformat_minor": 2
}
